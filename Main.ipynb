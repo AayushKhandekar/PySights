{
 "cells": [
  {
   "cell_type": "markdown",
   "id": "5baa1804-791e-4a78-ae73-5df3953a37b6",
   "metadata": {},
   "source": [
    "# FE520 - Introduction to Python for Financial Applications"
   ]
  },
  {
   "cell_type": "markdown",
   "id": "76eaf905-ed7e-4691-9240-2f9b5f21df07",
   "metadata": {},
   "source": [
    "## Aayush Khandekar"
   ]
  },
  {
   "cell_type": "code",
   "execution_count": null,
   "id": "82b94709-a422-4826-8af3-0eb42f853917",
   "metadata": {},
   "outputs": [],
   "source": []
  }
 ],
 "metadata": {
  "kernelspec": {
   "display_name": "Python 3 (ipykernel)",
   "language": "python",
   "name": "python3"
  },
  "language_info": {
   "codemirror_mode": {
    "name": "ipython",
    "version": 3
   },
   "file_extension": ".py",
   "mimetype": "text/x-python",
   "name": "python",
   "nbconvert_exporter": "python",
   "pygments_lexer": "ipython3",
   "version": "3.9.6"
  },
  "widgets": {
   "application/vnd.jupyter.widget-state+json": {
    "state": {},
    "version_major": 2,
    "version_minor": 0
   }
  }
 },
 "nbformat": 4,
 "nbformat_minor": 5
}
