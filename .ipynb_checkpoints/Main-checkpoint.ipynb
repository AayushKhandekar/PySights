{
 "cells": [
  {
   "cell_type": "markdown",
   "id": "5baa1804-791e-4a78-ae73-5df3953a37b6",
   "metadata": {},
   "source": [
    "# FE520 - Introduction to Python for Financial Applications"
   ]
  },
  {
   "cell_type": "markdown",
   "id": "76eaf905-ed7e-4691-9240-2f9b5f21df07",
   "metadata": {},
   "source": [
    "## Aayush Khandekar"
   ]
  },
  {
   "cell_type": "markdown",
   "id": "7fc977c3-9eb0-4a07-8021-d4a2280a3b66",
   "metadata": {},
   "source": [
    "#### Imports"
   ]
  },
  {
   "cell_type": "code",
   "execution_count": 95,
   "id": "82b94709-a422-4826-8af3-0eb42f853917",
   "metadata": {},
   "outputs": [],
   "source": [
    "import warnings\n",
    "import numpy as np\n",
    "import pandas as pd\n",
    "import yfinance as yf\n",
    "import mplfinance as mpf\n",
    "import matplotlib.pyplot as plt"
   ]
  },
  {
   "cell_type": "markdown",
   "id": "2422cc08-7481-4842-bf82-1c60792128ed",
   "metadata": {},
   "source": [
    "#### Filter warnings"
   ]
  },
  {
   "cell_type": "code",
   "execution_count": 4,
   "id": "540598be-7e03-41dd-bb6c-51fc3c2e3a7b",
   "metadata": {},
   "outputs": [],
   "source": [
    "warnings.filterwarnings('ignore') "
   ]
  },
  {
   "cell_type": "markdown",
   "id": "33ae0c5c-0e57-46e0-a3a6-cf7dc1541554",
   "metadata": {
    "jp-MarkdownHeadingCollapsed": true
   },
   "source": [
    "### visualize()"
   ]
  },
  {
   "cell_type": "code",
   "execution_count": 76,
   "id": "2e306e8c-d7c7-43a0-b6f9-01e2a5f1a3fd",
   "metadata": {},
   "outputs": [],
   "source": [
    "def visualize(ticker, start = None, end = None, frequency = \"daily\", chart = \"line\"):\n",
    "\n",
    "    '''function to visualize ticker data within a specific period. the visualization can be a line plot or a candle stick'''\n",
    "\n",
    "    if start is None or end is None:\n",
    "        raise ValueError(\"Both start_date and end_date must be provided\")\n",
    "    \n",
    "    else:\n",
    "    \n",
    "        if frequency == \"daily\":\n",
    "            data = yf.download(ticker, start = start, end = end)\n",
    "        \n",
    "        elif frequency == \"weekly\":\n",
    "            data = yf.download(ticker, start = start, end = end).resample('W').last()\n",
    "        \n",
    "        else:\n",
    "            print(f'Unknown value: frequency takes \"daily\" or \"weekly\" as arguments')\n",
    "\n",
    "        if chart == \"line\":\n",
    "            plt.plot(data, color = \"black\")\n",
    "        \n",
    "        elif chart == \"candle\":\n",
    "            print(f'line = \"candle\" is currently unavailable')\n",
    "        \n",
    "        else:\n",
    "            print(f'Unknown value: chart takes \"line\" or \"candle\" as arguments')\n",
    "\n",
    "    return None"
   ]
  },
  {
   "cell_type": "code",
   "execution_count": 77,
   "id": "01a40aba-c768-40b4-98af-bf4a8e09dfe0",
   "metadata": {},
   "outputs": [],
   "source": [
    "# visualize(\"AAPL\", start = \"2012-01-01\", end = \"2020-01-01\", chart = \"candle\")"
   ]
  },
  {
   "cell_type": "markdown",
   "id": "3320d181-a0dc-4460-92c6-98aef7a3b259",
   "metadata": {
    "jp-MarkdownHeadingCollapsed": true
   },
   "source": [
    "### visualize_against_sp500()"
   ]
  },
  {
   "cell_type": "code",
   "execution_count": 149,
   "id": "25beeeaf-3e90-4272-b51a-d0fb98556697",
   "metadata": {},
   "outputs": [],
   "source": [
    "def visualize_against_sp500(ticker, start = None, end = None, frequency = \"daily\"):\n",
    "    \n",
    "    '''Visualize stock price against S&P 500 index'''\n",
    "\n",
    "    if start is None or end is None:\n",
    "        raise ValueError(\"Both start and end dates must be provided\")\n",
    "    \n",
    "    else:  \n",
    "        stock_data = yf.download(ticker, start = start, end = end)\n",
    "        sp500_data = yf.download(\"^GSPC\", start = start, end = end)\n",
    "        \n",
    "        if frequency == \"daily\":\n",
    "            plt.plot(stock_data['Adj Close'], label=ticker, color='blue')  \n",
    "            plt.plot(sp500_data['Adj Close'], label='S&P 500', color='black') \n",
    "            plt.title(f'Stock Price vs. S&P 500: {ticker}')\n",
    "            plt.xlabel('Date')\n",
    "            plt.ylabel('Adjusted Close Price (USD)')\n",
    "            plt.legend()\n",
    "            plt.show()\n",
    "        \n",
    "        elif frequency == \"weekly\":\n",
    "            stock_data = stock_data.resample('W').last()\n",
    "            sp500_data = sp500_data.resample('W').last()\n",
    "            plt.plot(stock_data['Adj Close'], label=ticker, color='blue')  \n",
    "            plt.plot(sp500_data['Adj Close'], label='S&P 500', color='black') \n",
    "            plt.title(f'Stock Price vs. S&P 500: {ticker}')\n",
    "            plt.xlabel('Date')\n",
    "            plt.ylabel('Adjusted Close Price (USD)')\n",
    "            plt.legend()\n",
    "            plt.show()\n",
    "        \n",
    "        else:\n",
    "            raise ValueError(\"Unknown frequency: 'daily' or 'weekly' expected\")\n",
    "    return None\n"
   ]
  },
  {
   "cell_type": "code",
   "execution_count": 154,
   "id": "dfc16a23-5969-4574-b27f-cb12d179fa83",
   "metadata": {},
   "outputs": [],
   "source": [
    "# visualize_against_sp500(\"MSFT\", start = \"2020-01-01\", end = \"2022-01-01\", frequency = \"daily\")"
   ]
  },
  {
   "cell_type": "markdown",
   "id": "c73fecfc-90a2-4df8-94a8-bbcec35a32c1",
   "metadata": {
    "jp-MarkdownHeadingCollapsed": true
   },
   "source": [
    "### log_returns()"
   ]
  },
  {
   "cell_type": "code",
   "execution_count": 78,
   "id": "9ba13e82-807a-4c3f-ad1d-024a17aa0845",
   "metadata": {},
   "outputs": [],
   "source": [
    "def log_returns(ticker, start = None, end = None, frequency = \"daily\"):\n",
    "    \n",
    "    '''function to calculate log returns of the given ticker'''\n",
    "\n",
    "    if start is None or end is None:\n",
    "        raise ValueError(\"Both start_date and end_date must be provided\")\n",
    "    \n",
    "    else:\n",
    "    \n",
    "        if frequency == \"daily\":\n",
    "            data = yf.download(ticker, start = start, end = end)\n",
    "            log_returns = np.log(data / data.shift(1))\n",
    "        \n",
    "        elif frequency == \"weekly\":\n",
    "            data = yf.download(ticker, start = start, end = end).resample('W').last()\n",
    "            log_returns = np.log(data / data.shift(1))\n",
    "        \n",
    "        else:\n",
    "            print(f'Unknown value: frequency takes \"daily\" or \"weekly\" as arguments')\n",
    "        \n",
    "    return log_returns"
   ]
  },
  {
   "cell_type": "code",
   "execution_count": 79,
   "id": "b826620d-555e-47af-89c0-879df698482c",
   "metadata": {},
   "outputs": [],
   "source": [
    "#df = log_returns(\"AAPL\", start = \"2012-01-01\", end = \"2022-01-01\", frequency = \"weekly\")\n",
    "#df"
   ]
  },
  {
   "cell_type": "markdown",
   "id": "bce3689e-d63f-4da4-a53d-40beeb437e8b",
   "metadata": {
    "jp-MarkdownHeadingCollapsed": true
   },
   "source": [
    "### daily_returns()"
   ]
  },
  {
   "cell_type": "code",
   "execution_count": 84,
   "id": "3f685ff0-147b-4b8d-9466-b5bd1b2c031e",
   "metadata": {},
   "outputs": [],
   "source": [
    "def daily_returns(ticker, start = None, end = None, frequency = \"daily\"):\n",
    "    \n",
    "    '''function to calculate daily returns of the given ticker'''\n",
    "\n",
    "    if start is None or end is None:\n",
    "        raise ValueError(\"Both start_date and end_date must be provided\")\n",
    "    \n",
    "    else:\n",
    "    \n",
    "        if frequency == \"daily\":\n",
    "            data = yf.download(ticker, start = start, end = end)\n",
    "            daily_returns = data.pct_change()        \n",
    "        \n",
    "        elif frequency == \"weekly\":\n",
    "            data = yf.download(ticker, start = start, end = end).resample('W').last()\n",
    "            daily_returns = data.pct_change()\n",
    "        \n",
    "        else:\n",
    "            print(f'Unknown value: frequency takes \"daily\" or \"weekly\" as arguments')\n",
    "        \n",
    "    return daily_returns"
   ]
  },
  {
   "cell_type": "code",
   "execution_count": 86,
   "id": "3386df72-1b3c-4a80-80ab-ba349084c5a7",
   "metadata": {
    "scrolled": true
   },
   "outputs": [],
   "source": [
    "#df = log_returns(\"AAPL\", start = \"2012-01-01\", end = \"2022-01-01\", frequency = \"weekly\")\n",
    "#df"
   ]
  },
  {
   "cell_type": "markdown",
   "id": "f43a0fb1-3864-4d60-b080-17f83cad2af3",
   "metadata": {
    "jp-MarkdownHeadingCollapsed": true
   },
   "source": [
    "### rolling_volatility()"
   ]
  },
  {
   "cell_type": "code",
   "execution_count": 121,
   "id": "f4b488d4-02c5-4abf-b6d6-f2fecf3ea751",
   "metadata": {},
   "outputs": [],
   "source": [
    "def rolling_volatility(ticker, start = None, end = None, frequency = \"daily\", window = 20):\n",
    "    \n",
    "    '''function to calculate rolling volatility of a given ticker'''\n",
    "\n",
    "    if start is None or end is None:\n",
    "        raise ValueError(\"Both start and end dates must be provided\")\n",
    "    \n",
    "    else:\n",
    "        data = yf.download(ticker, start = start, end = end)[\"Adj Close\"]\n",
    "        \n",
    "        if frequency == \"daily\":\n",
    "            daily_returns = data.pct_change()\n",
    "            rolling_volatility = pd.DataFrame(daily_returns.rolling(window = window).std())\n",
    "        \n",
    "        elif frequency == \"weekly\":\n",
    "            data = data.resample('W').last()\n",
    "            daily_returns = data.pct_change()\n",
    "            rolling_volatility = pd.DataFrame(daily_returns.rolling(window = window).std())\n",
    "        \n",
    "        else:\n",
    "            print(f'Unknown value: frequency takes \"daily\" or \"weekly\" as arguments')\n",
    "\n",
    "    return rolling_volatility"
   ]
  },
  {
   "cell_type": "code",
   "execution_count": 128,
   "id": "2e95586f-e209-4e81-938d-d138c258f9a1",
   "metadata": {},
   "outputs": [],
   "source": [
    "#rolling_volatility(\"AAPL\", start = \"2012-01-01\", end = \"2022-01-01\", frequency = \"weekly\", window = 3)"
   ]
  },
  {
   "cell_type": "markdown",
   "id": "3ed19deb-770b-4cbe-8cc0-0690540685cb",
   "metadata": {
    "jp-MarkdownHeadingCollapsed": true
   },
   "source": [
    "### sharpe_ratio()"
   ]
  },
  {
   "cell_type": "code",
   "execution_count": 161,
   "id": "c8f82f0f-8dd5-4502-9bcc-47e527cda991",
   "metadata": {},
   "outputs": [],
   "source": [
    "def sharpe_ratio(ticker, start=None, end=None, risk_free_rate=0.01, frequency='daily'):\n",
    "    \n",
    "    '''function to calculate the sharpe ratio of a stock'''\n",
    "\n",
    "    if start is None or end is None:\n",
    "        raise ValueError(\"Both start and end dates must be provided\")\n",
    "    \n",
    "    data = yf.download(ticker, start=start, end=end)\n",
    "    \n",
    "    if frequency == 'daily':\n",
    "        returns = data['Adj Close'].pct_change()\n",
    "    \n",
    "    elif frequency == 'weekly':\n",
    "        returns = data.resample('W').last()['Adj Close'].pct_change()\n",
    "    \n",
    "    else:\n",
    "        raise ValueError(\"Unknown frequency: 'daily' or 'weekly' expected\")\n",
    "    \n",
    "    # 252 trading days \n",
    "    excess_returns = returns - (risk_free_rate / 252)  \n",
    "    std_dev = returns.std()\n",
    "    sharpe_ratio = np.mean(excess_returns) / std_dev\n",
    "\n",
    "    return sharpe_ratio"
   ]
  },
  {
   "cell_type": "code",
   "execution_count": 163,
   "id": "fc305679-a1fc-49dc-ace5-d9d3477551f5",
   "metadata": {},
   "outputs": [
    {
     "name": "stderr",
     "output_type": "stream",
     "text": [
      "[*********************100%%**********************]  1 of 1 completed\n"
     ]
    },
    {
     "data": {
      "text/plain": [
       "0.21037826706940946"
      ]
     },
     "execution_count": 163,
     "metadata": {},
     "output_type": "execute_result"
    }
   ],
   "source": [
    "sharpe_ratio(\"AAPL\", start = \"2020-01-01\", end = \"2022-01-01\", frequency = \"weekly\")"
   ]
  },
  {
   "cell_type": "markdown",
   "id": "8d58f040-82f4-4abe-b6ac-237207bd8acb",
   "metadata": {
    "jp-MarkdownHeadingCollapsed": true
   },
   "source": [
    "### pe_ratio()"
   ]
  },
  {
   "cell_type": "code",
   "execution_count": 168,
   "id": "2ce2913b-eda5-4780-aa50-91cf728dbf1f",
   "metadata": {},
   "outputs": [],
   "source": [
    "def pe_ratio(ticker, period=\"1d\"):\n",
    "    \n",
    "    '''function to calculate the Price/Earnings (P/E) ratio for a stock'''\n",
    "\n",
    "    if not ticker:\n",
    "        raise ValueError(\"A valid ticker must be provided\")\n",
    "\n",
    "    # download ticker data\n",
    "    stock = yf.Ticker(ticker)\n",
    "    data = stock.history(period = period)\n",
    "    \n",
    "    if data.empty:\n",
    "        raise ValueError(\"No data available for the given ticker and period\")\n",
    "    closing_price = data['Close'].iloc[-1]\n",
    "\n",
    "    # get trailing TTM EPS\n",
    "    ttm_eps = stock.info.get('trailingEps', None)\n",
    "    if ttm_eps is None or ttm_eps == 0:\n",
    "        raise ValueError(\"Invalid EPS value: cannot calculate P/E ratio\")\n",
    "    pe_ratio = closing_price / ttm_eps\n",
    "\n",
    "    return pe_ratio\n"
   ]
  },
  {
   "cell_type": "code",
   "execution_count": 169,
   "id": "01e25e29-b706-45f6-a193-5a3c6991d6ba",
   "metadata": {},
   "outputs": [
    {
     "data": {
      "text/plain": [
       "26.37071698625511"
      ]
     },
     "execution_count": 169,
     "metadata": {},
     "output_type": "execute_result"
    }
   ],
   "source": [
    "# pe_ratio(\"AAPL\")"
   ]
  },
  {
   "cell_type": "markdown",
   "id": "ce67bfe2-3053-477f-a32c-ea59dc5bbf6c",
   "metadata": {
    "jp-MarkdownHeadingCollapsed": true
   },
   "source": [
    "### ps_ratio()"
   ]
  },
  {
   "cell_type": "code",
   "execution_count": 188,
   "id": "d37354d9-ac8a-4f58-8848-a1e27fa5eeb6",
   "metadata": {},
   "outputs": [],
   "source": [
    "import yfinance as yf\n",
    "import matplotlib.pyplot as plt\n",
    "import pandas as pd\n",
    "\n",
    "def ps_ratio(ticker, start=None, end=None):\n",
    "    \n",
    "    '''function to calculate the Price/Sales (P/S) ratio for a stock'''\n",
    "\n",
    "    if start is None or end is None:\n",
    "        raise ValueError(\"Both start and end dates must be provided\")\n",
    "\n",
    "    stock = yf.Ticker(ticker)\n",
    "    stock_data = stock.history(start=start, end=end)\n",
    "    info = stock.info\n",
    "\n",
    "    latest_price = stock_data['Close'].iloc[-1]\n",
    "    \n",
    "    # trailing twelve month revenue\n",
    "    ttm_revenue = info.get('totalRevenue', None)\n",
    "\n",
    "    if ttm_revenue is None:\n",
    "        raise ValueError(\"Could not find trailing revenue\")\n",
    "\n",
    "    market_cap = info.get('marketCap', None)\n",
    "\n",
    "    if market_cap and ttm_revenue:\n",
    "        ps_ratio = market_cap / ttm_revenue\n",
    "    else:\n",
    "        raise ValueError(\"Market capitalization or revenue data is missing\")\n",
    "\n",
    "    return ps_ratio \n"
   ]
  },
  {
   "cell_type": "code",
   "execution_count": 189,
   "id": "86efd2cd-ada0-4a01-a1ef-bd0873968e5f",
   "metadata": {},
   "outputs": [
    {
     "data": {
      "text/plain": [
       "12.761371808929136"
      ]
     },
     "execution_count": 189,
     "metadata": {},
     "output_type": "execute_result"
    }
   ],
   "source": [
    "ps_ratio(\"MSFT\", start = \"2010-01-01\", end = \"2020-01-01\")"
   ]
  },
  {
   "cell_type": "code",
   "execution_count": null,
   "id": "2f7fc018-f555-4d35-98c7-27d5d8ff8e4d",
   "metadata": {},
   "outputs": [],
   "source": []
  },
  {
   "cell_type": "markdown",
   "id": "b7ab38ce-7413-4153-af47-883530227803",
   "metadata": {
    "jp-MarkdownHeadingCollapsed": true
   },
   "source": [
    "### macd()"
   ]
  },
  {
   "cell_type": "code",
   "execution_count": 179,
   "id": "b6b45022-7530-4e22-9da8-eae32bf031c3",
   "metadata": {},
   "outputs": [],
   "source": [
    "def macd(ticker, start = None, end = None):\n",
    "    \n",
    "    '''Calculate and visualize the MACD for a stock'''\n",
    "\n",
    "    if start is None or end is None:\n",
    "        raise ValueError(\"Both start and end dates must be provided\")\n",
    "\n",
    "    data = yf.download(ticker, start=start, end=end)\n",
    "\n",
    "    # generate the MACD line and Signal line\n",
    "    short_ema = data['Adj Close'].ewm(span = 12, adjust = False).mean()  \n",
    "    long_ema = data['Adj Close'].ewm(span = 26, adjust = False).mean()   \n",
    "    \n",
    "    # calculate macd\n",
    "    macd = short_ema - long_ema\n",
    "\n",
    "    # Signal line is a 9-period EMA of the MACD line\n",
    "    signal = macd.ewm(span = 9, adjust = False).mean()\n",
    "\n",
    "    plt.plot(data.index, macd, label='MACD', color='red')  \n",
    "    plt.plot(data.index, signal, label='Signal', color='blue')  \n",
    "    plt.title(f'MACD for {ticker}')\n",
    "    plt.xlabel('Date')\n",
    "    plt.ylabel('MACD')\n",
    "    plt.legend()\n",
    "    plt.show()\n",
    "\n",
    "    return None\n"
   ]
  },
  {
   "cell_type": "code",
   "execution_count": 180,
   "id": "fa599a42-7f07-4e11-ae67-e6eaba48428f",
   "metadata": {},
   "outputs": [
    {
     "name": "stderr",
     "output_type": "stream",
     "text": [
      "[*********************100%%**********************]  1 of 1 completed\n"
     ]
    },
    {
     "data": {
      "image/png": "[encoded data removed]",
      "text/plain": [
       "<Figure size 640x480 with 1 Axes>"
      ]
     },
     "metadata": {},
     "output_type": "display_data"
    }
   ],
   "source": [
    "macd(\"AAPL\", start = \"2010-01-01\", end = \"2020-01-01\")"
   ]
  }
 ],
 "metadata": {
  "kernelspec": {
   "display_name": "Python 3 (ipykernel)",
   "language": "python",
   "name": "python3"
  },
  "language_info": {
   "codemirror_mode": {
    "name": "ipython",
    "version": 3
   },
   "file_extension": ".py",
   "mimetype": "text/x-python",
   "name": "python",
   "nbconvert_exporter": "python",
   "pygments_lexer": "ipython3",
   "version": "3.9.6"
  },
  "widgets": {
   "application/vnd.jupyter.widget-state+json": {
    "state": {},
    "version_major": 2,
    "version_minor": 0
   }
  }
 },
 "nbformat": 4,
 "nbformat_minor": 5
}
