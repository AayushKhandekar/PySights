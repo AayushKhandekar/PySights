{
 "cells": [
  {
   "cell_type": "markdown",
   "id": "5baa1804-791e-4a78-ae73-5df3953a37b6",
   "metadata": {},
   "source": [
    "# FE520 - Introduction to Python for Financial Applications"
   ]
  },
  {
   "cell_type": "markdown",
   "id": "76eaf905-ed7e-4691-9240-2f9b5f21df07",
   "metadata": {},
   "source": [
    "## Aayush Khandekar"
   ]
  },
  {
   "cell_type": "markdown",
   "id": "7fc977c3-9eb0-4a07-8021-d4a2280a3b66",
   "metadata": {},
   "source": [
    "#### Imports"
   ]
  },
  {
   "cell_type": "code",
   "execution_count": 40,
   "id": "82b94709-a422-4826-8af3-0eb42f853917",
   "metadata": {},
   "outputs": [],
   "source": [
    "import warnings\n",
    "import yfinance as yf\n",
    "import mplfinance as mpf\n",
    "import matplotlib.pyplot as plt"
   ]
  },
  {
   "cell_type": "markdown",
   "id": "2422cc08-7481-4842-bf82-1c60792128ed",
   "metadata": {},
   "source": [
    "#### Filter warnings"
   ]
  },
  {
   "cell_type": "code",
   "execution_count": 4,
   "id": "540598be-7e03-41dd-bb6c-51fc3c2e3a7b",
   "metadata": {},
   "outputs": [],
   "source": [
    "warnings.filterwarnings('ignore') "
   ]
  },
  {
   "cell_type": "markdown",
   "id": "33ae0c5c-0e57-46e0-a3a6-cf7dc1541554",
   "metadata": {},
   "source": [
    "### visualize()"
   ]
  },
  {
   "cell_type": "code",
   "execution_count": 55,
   "id": "2e306e8c-d7c7-43a0-b6f9-01e2a5f1a3fd",
   "metadata": {},
   "outputs": [],
   "source": [
    "def visualize(ticker, start = None, end = None, frequency = \"daily\", chart = \"line\"):\n",
    "\n",
    "    '''function to visualize ticker data within a specific period. the visualization can be a line plot or a candle stick'''\n",
    "\n",
    "    if start is None or end is None:\n",
    "        raise ValueError(\"Both start_date and end_date must be provided\")\n",
    "    else:\n",
    "        if frequency == \"daily\":\n",
    "            data = yf.download(ticker, start = start, end = end)\n",
    "        elif frequency == \"weekly\":\n",
    "            data = yf.download(ticker, start = start, end = end).resample('W').last()\n",
    "        else:\n",
    "            print(f'Unknown value: frequency takes \"daily\" or \"weekly\" as arguments')\n",
    "\n",
    "        if chart == \"line\":\n",
    "            plt.plot(data, color = \"black\")\n",
    "        elif chart == \"candle\":\n",
    "            print(f'line = \"candle\" is currently unavailable')\n",
    "        else:\n",
    "            print(f'Unknown value: chart takes \"line\" or \"candle\" as arguments')\n",
    "\n",
    "    return None"
   ]
  },
  {
   "cell_type": "code",
   "execution_count": 56,
   "id": "01a40aba-c768-40b4-98af-bf4a8e09dfe0",
   "metadata": {},
   "outputs": [
    {
     "name": "stderr",
     "output_type": "stream",
     "text": [
      "[*********************100%%**********************]  1 of 1 completed"
     ]
    },
    {
     "name": "stdout",
     "output_type": "stream",
     "text": [
      "line = \"candle\" is currently unavailable\n"
     ]
    },
    {
     "name": "stderr",
     "output_type": "stream",
     "text": [
      "\n"
     ]
    }
   ],
   "source": [
    "# visualize(\"AAPL\", start = \"2012-01-01\", end = \"2020-01-01\", chart = \"candle\")"
   ]
  },
  {
   "cell_type": "markdown",
   "id": "c73fecfc-90a2-4df8-94a8-bbcec35a32c1",
   "metadata": {},
   "source": [
    "### log_returns()"
   ]
  },
  {
   "cell_type": "code",
   "execution_count": null,
   "id": "9ba13e82-807a-4c3f-ad1d-024a17aa0845",
   "metadata": {},
   "outputs": [],
   "source": []
  },
  {
   "cell_type": "code",
   "execution_count": null,
   "id": "b826620d-555e-47af-89c0-879df698482c",
   "metadata": {},
   "outputs": [],
   "source": []
  }
 ],
 "metadata": {
  "kernelspec": {
   "display_name": "Python 3 (ipykernel)",
   "language": "python",
   "name": "python3"
  },
  "language_info": {
   "codemirror_mode": {
    "name": "ipython",
    "version": 3
   },
   "file_extension": ".py",
   "mimetype": "text/x-python",
   "name": "python",
   "nbconvert_exporter": "python",
   "pygments_lexer": "ipython3",
   "version": "3.9.6"
  },
  "widgets": {
   "application/vnd.jupyter.widget-state+json": {
    "state": {},
    "version_major": 2,
    "version_minor": 0
   }
  }
 },
 "nbformat": 4,
 "nbformat_minor": 5
}
